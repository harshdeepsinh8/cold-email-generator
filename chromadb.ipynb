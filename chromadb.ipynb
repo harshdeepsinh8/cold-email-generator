{
 "cells": [
  {
   "cell_type": "code",
   "execution_count": 1,
   "id": "414ab784",
   "metadata": {},
   "outputs": [],
   "source": [
    "import chromadb"
   ]
  },
  {
   "cell_type": "code",
   "execution_count": 2,
   "id": "7068f0f8",
   "metadata": {},
   "outputs": [],
   "source": [
    "client=chromadb.Client()\n",
    "collection=client.create_collection(name='my_coll')\n"
   ]
  },
  {
   "cell_type": "code",
   "execution_count": null,
   "id": "091f33a7",
   "metadata": {},
   "outputs": [],
   "source": [
    "collection.add(\n",
    "    documents=[\n",
    "        \"doc1\"\n",
    "    ],\n",
    "    ids=[\"id1\"]\n",
    ")\n"
   ]
  },
  {
   "cell_type": "code",
   "execution_count": null,
   "id": "6f03b333",
   "metadata": {},
   "outputs": [],
   "source": [
    "all_doc=collection.get()\n",
    "all_doc"
   ]
  }
 ],
 "metadata": {
  "kernelspec": {
   "display_name": "Python 3 (ipykernel)",
   "language": "python",
   "name": "python3"
  },
  "language_info": {
   "codemirror_mode": {
    "name": "ipython",
    "version": 3
   },
   "file_extension": ".py",
   "mimetype": "text/x-python",
   "name": "python",
   "nbconvert_exporter": "python",
   "pygments_lexer": "ipython3",
   "version": "3.11.5"
  }
 },
 "nbformat": 4,
 "nbformat_minor": 5
}
